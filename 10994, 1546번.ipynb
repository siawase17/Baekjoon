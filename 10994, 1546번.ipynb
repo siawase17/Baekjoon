{
 "cells": [
  {
   "cell_type": "markdown",
   "id": "3ea49547-217f-49bc-aed1-d6d4e4270e9a",
   "metadata": {},
   "source": [
    "## 10994번\n",
    "예제를 보고 규칙을 유추한 뒤에 별을 찍어 보세요.\n",
    "\n",
    "## 입력\n",
    "첫째 줄에 N(1 ≤ N ≤ 100)이 주어진다.\n",
    "\n",
    "## 출력\n",
    "첫째 줄부터 차례대로 별을 출력한다."
   ]
  },
  {
   "cell_type": "markdown",
   "id": "459ee33a-d359-4572-a688-d9791e8ec285",
   "metadata": {},
   "source": [
    "## 예제 입력\n",
    "\n",
    "```\n",
    "3\n",
    "```\n",
    "\n",
    "## 예제 출력\n",
    "\n",
    "```\n",
    "*********\n",
    "*       *\n",
    "* ***** *\n",
    "* *   * *\n",
    "* * * * *\n",
    "* *   * *\n",
    "* ***** *\n",
    "*       *\n",
    "*********\n",
    "```"
   ]
  },
  {
   "cell_type": "code",
   "execution_count": null,
   "id": "06071796-7ea3-4e78-a7d7-612fba74961f",
   "metadata": {},
   "outputs": [],
   "source": [
    "def star_line(n, i):\n",
    "    a = 4 * (n-i) + 1\n",
    "    stars = '*' * a\n",
    "    print('* ' * (i-1) + stars + ' *' * (i-1))\n",
    "    \n",
    "def space_line(n, i):\n",
    "    a = 4 * (n-i) + 1\n",
    "    spaces = ' ' * (a-4)\n",
    "    print('* ' * i + spaces + ' *' * i)\n",
    "\n",
    "def star_pattern(n):\n",
    "    for i in range(1, n):\n",
    "        star_line(n, i)\n",
    "        space_line(n, i)\n",
    "    print('* ' * (n * 2 - 1))\n",
    "    for i in range(n-1, 0, -1):\n",
    "        space_line(n, i)\n",
    "        star_line(n, i)\n",
    "\n",
    "n = int(input())\n",
    "star_pattern(n)"
   ]
  },
  {
   "cell_type": "markdown",
   "id": "55c0eb51-d3b2-43a8-bb80-b09eff9889df",
   "metadata": {},
   "source": [
    "---"
   ]
  },
  {
   "cell_type": "markdown",
   "id": "a8d605ee-c27b-412a-9052-fe589bc54381",
   "metadata": {
    "tags": []
   },
   "source": [
    "## 1546번\n",
    "\n",
    "세준이는 기말고사를 망쳤다. 세준이는 점수를 조작해서 집에 가져가기로 했다. 일단 세준이는 자기 점수 중에 최댓값을 골랐다. 이 값을 M이라고 한다. 그리고 나서 모든 점수를 점수/M*100으로 고쳤다. 예를 들어, 세준이의 최고점이 70이고, 수학점수가 50이었으면 수학점수는 50/70*100이 되어 71.43점이 된다. 세준이의 성적을 위의 방법대로 새로 계산했을 때, 새로운 평균을 구하는 프로그램을 작성하시오.\n",
    "\n",
    "## 입력\n",
    "\n",
    "첫째 줄에 시험 본 과목의 개수 N이 주어진다. 이 값은 1000보다 작거나 같다. 둘째 줄에 세준이의 현재 성적이 주어진다. 이 값은 100보다 작거나 같은 음이 아닌 정수이고, 적어도 하나의 값은 0보다 크다.\n",
    "\n",
    "## 출력\n",
    "\n",
    "첫째 줄에 새로운 평균을 출력한다. 실제 정답과 출력값의 절대오차 또는 상대오차가 10-2 이하이면 정답이다."
   ]
  },
  {
   "cell_type": "code",
   "execution_count": null,
   "id": "a2c3f642-2a5f-4462-818a-3beb0e29fdca",
   "metadata": {},
   "outputs": [],
   "source": [
    "n = int(input())\n",
    "scores = list(map(int, input().split()))\n",
    "m = max(scores)\n",
    "\n",
    "for i in range(n):\n",
    "    scores[i] = scores[i]/m*100\n",
    "    \n",
    "average = sum(scores) / n\n",
    "print(average)"
   ]
  }
 ],
 "metadata": {
  "kernelspec": {
   "display_name": "Python 3 (ipykernel)",
   "language": "python",
   "name": "python3"
  },
  "language_info": {
   "codemirror_mode": {
    "name": "ipython",
    "version": 3
   },
   "file_extension": ".py",
   "mimetype": "text/x-python",
   "name": "python",
   "nbconvert_exporter": "python",
   "pygments_lexer": "ipython3",
   "version": "3.9.7"
  }
 },
 "nbformat": 4,
 "nbformat_minor": 5
}
